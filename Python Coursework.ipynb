{
 "cells": [
  {
   "cell_type": "markdown",
   "metadata": {},
   "source": [
    "# Python Coursework----------------------------------------------------------------E201701"
   ]
  },
  {
   "cell_type": "markdown",
   "metadata": {},
   "source": [
    "Packages to import:"
   ]
  },
  {
   "cell_type": "code",
   "execution_count": 1,
   "metadata": {},
   "outputs": [],
   "source": [
    "import random as rand\n",
    "import time\n",
    "import sys"
   ]
  },
  {
   "cell_type": "markdown",
   "metadata": {},
   "source": [
    "### Exercise 1"
   ]
  },
  {
   "cell_type": "code",
   "execution_count": 2,
   "metadata": {},
   "outputs": [],
   "source": [
    "number = rand.randrange(0,100)\n",
    "guessCheck = False\n",
    "count = 0"
   ]
  },
  {
   "cell_type": "code",
   "execution_count": 3,
   "metadata": {},
   "outputs": [],
   "source": [
    "def delay_print(s, speed):\n",
    "    for c in s:\n",
    "        sys.stdout.write(c)\n",
    "        sys.stdout.flush()\n",
    "        time.sleep(speed)"
   ]
  },
  {
   "cell_type": "code",
   "execution_count": 4,
   "metadata": {},
   "outputs": [],
   "source": [
    "def NumbGuess():\n",
    "    delay_print(\"Welcome to Number Guess!\", 0.05)\n",
    "    print()\n",
    "    print()\n",
    "    while guessCheck == False:\n",
    "\n",
    "        count += 1\n",
    "        count_str = str(count)\n",
    "        print()\n",
    "        print()\n",
    "        message1 = str(\"This is your try number \"+count_str)\n",
    "        delay_print(message1, 0.025)\n",
    "        print()\n",
    "        response = input(delay_print(\"Please enter a number between 0 and 100: \", 0.025))\n",
    "\n",
    "        try:\n",
    "            val = int(response)\n",
    "\n",
    "        except ValueError:\n",
    "            print()\n",
    "            delay_print(\"This is not a valid input. Try using a number between 0 and a 100\", 0.025)\n",
    "            continue\n",
    "\n",
    "        if val > number:\n",
    "            print()\n",
    "            delay_print(\"Your guess is greater than the target number\", 0.025)\n",
    "\n",
    "        elif val < number:\n",
    "            print()\n",
    "            delay_print(\"Your guess is lower than the target number\", 0.025)\n",
    "\n",
    "        else:\n",
    "            print()\n",
    "            message2 = str(\"You guessed the target number after only \" + count_str + \" tries! Congratulations!\")\n",
    "            delay_print(message2, 0.025)\n",
    "            guessCheck = True\n",
    "    print()\n",
    "    print()\n",
    "    delay_print(\"Thank you for playing with us! See you Soon!\", 0.025)"
   ]
  },
  {
   "cell_type": "markdown",
   "metadata": {},
   "source": [
    "### Exercise 2"
   ]
  },
  {
   "cell_type": "code",
   "execution_count": 5,
   "metadata": {},
   "outputs": [],
   "source": [
    "answers = ['It is certain', 'It is decidedly so',\n",
    "           'Without a doubt', 'Yes – definitely',\n",
    "           'You may   rely on it', 'As I see it, yes',\n",
    "           'Most likely', 'Outlook good', 'Yes Signs point to yes',\n",
    "           'Reply hazy', 'try again', 'Ask again later', \n",
    "           'Better not tell you now', 'Cannot   predict now', \n",
    "           'Concentrate and ask again', 'Don’t count on it', \n",
    "           'My reply is no',   'My sources say no', \n",
    "           'Outlook not so good', 'Very doubtful']"
   ]
  },
  {
   "cell_type": "code",
   "execution_count": 6,
   "metadata": {},
   "outputs": [],
   "source": [
    "def MagicBall8():\n",
    "    count_MB8 = 0\n",
    "    play = True\n",
    "    \n",
    "    name = input(delay_print(\"Hello Stranger... How should I call you today?\", 0.025))\n",
    "    print()\n",
    "    message3 = str(\"So be it! Welcome \" + name + \"! I hope it doesn't mean something rude in your language...\") \n",
    "    delay_print(message3, 0.025)\n",
    "    \n",
    "    while play == True:\n",
    "        count_MB8 +=1\n",
    "        print()\n",
    "        if count_MB8 == 1:\n",
    "            input(delay_print(\"Now, what is your question?\", 0.025))\n",
    "        else:\n",
    "            message4 = str(\"What is your question number \" + str(count_MB8) + \"?\")\n",
    "            input(delay_print(message4, 0.025))\n",
    "        print()\n",
    "        delay_print(\"Mmmmh... Let me think\",0.025)\n",
    "        print()\n",
    "        delay_print(rand.choice(answers),0.05)\n",
    "        print()\n",
    "        \n",
    "        while True:\n",
    "            newQuestion = input(delay_print(\"Would you like to ask me another question? [Y/N]\",0.025))\n",
    "            print()\n",
    "        \n",
    "            if newQuestion == \"Y\" or newQuestion == \"y\":\n",
    "                break \n",
    "            elif newQuestion == \"N\" or newQuestion == \"n\":\n",
    "                play = False\n",
    "                break\n",
    "            else:\n",
    "                delay_print(\"Answer by Y or N or y or n please.\",0.025)\n",
    "                print()\n",
    "                continue\n",
    "    message5 = \"Thanks for using me today \" + name + \"! I hope you have a nice day! ;*\"\n",
    "    delay_print(message5, 0.025)"
   ]
  },
  {
   "cell_type": "code",
   "execution_count": null,
   "metadata": {},
   "outputs": [],
   "source": []
  }
 ],
 "metadata": {
  "kernelspec": {
   "display_name": "Python 3",
   "language": "python",
   "name": "python3"
  },
  "language_info": {
   "codemirror_mode": {
    "name": "ipython",
    "version": 3
   },
   "file_extension": ".py",
   "mimetype": "text/x-python",
   "name": "python",
   "nbconvert_exporter": "python",
   "pygments_lexer": "ipython3",
   "version": "3.8.5"
  }
 },
 "nbformat": 4,
 "nbformat_minor": 4
}
